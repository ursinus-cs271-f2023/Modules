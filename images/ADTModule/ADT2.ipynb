{
 "cells": [
  {
   "cell_type": "markdown",
   "id": "04059f4b",
   "metadata": {},
   "source": [
    "# Abstract Data Types (ADTs)"
   ]
  },
  {
   "cell_type": "code",
   "execution_count": 1,
   "id": "3b2e5564",
   "metadata": {},
   "outputs": [],
   "source": [
    "import numpy as np\n",
    "import matplotlib.pyplot as plt"
   ]
  },
  {
   "cell_type": "markdown",
   "id": "c6173a57",
   "metadata": {},
   "source": [
    "API: Application programming interface\n",
    "Bare bones description of some functionality (e.g. A header file in C++)\n",
    "- The parameters to a method, as well as the return type/information\n",
    "- No implementation details about the functionality\n",
    "\n",
    "ADT: API specalized to a data container of some type"
   ]
  },
  {
   "cell_type": "markdown",
   "id": "69721920",
   "metadata": {},
   "source": [
    "### Set ADT\n",
    "\n",
    "A set is a collection of object, in no particular order, without repetition\n",
    "\n",
    "Ex) myset = {2, 7, 1, 17, 7, 3}\n",
    "\n",
    "Set ADT:\n",
    "* void add(obj): Add our object to the set if it doesn't exist, or do nothing if it's already there\n",
    "* bool contains(obj): Return True if obj is in the set, or False otherwise\n",
    "* void remove(obj): Remove obj from the set if it's there, or throw an exception if it's not there\n",
    "\n",
    "A *data structure* is an underlying implementation that realizes and ADT."
   ]
  },
  {
   "cell_type": "markdown",
   "id": "9b2f7da3",
   "metadata": {},
   "source": [
    "### Ordered Array Data Structure for Set ADT\n",
    "\n",
    "Keep our array in order as an \"invariant\" to help make searching more efficient in the contains method"
   ]
  },
  {
   "cell_type": "code",
   "execution_count": 33,
   "id": "c4d615c0",
   "metadata": {},
   "outputs": [
    {
     "name": "stdout",
     "output_type": "stream",
     "text": [
      "[ 9  9  9 12 14 19 19 20 21 23 25 29 31 32 32 35 36 37 39 39 44 46 47 47\n",
      " 49 57 58 64 64 65 65 67 67 69 70 72 74 77 79 80 81 82 83 87 87 88 88 88\n",
      " 88 99]\n",
      "3 12\n"
     ]
    }
   ],
   "source": [
    "import bisect # Python implements binary search\n",
    "import numpy as np\n",
    "\n",
    "np.random.seed(0) # Same results each time\n",
    "arr = np.random.randint(0, 100, 50)\n",
    "arr = np.sort(arr)\n",
    "print(arr)\n",
    "\n",
    "idx = bisect.bisect_left(arr, 10)\n",
    "# If it's there, it gives me the index right after the first occurrence\n",
    "# If it's not there, it gives me the index right after the element \n",
    "# that's above it\n",
    "print(idx, arr[idx])"
   ]
  },
  {
   "cell_type": "code",
   "execution_count": 32,
   "id": "084973ec",
   "metadata": {},
   "outputs": [
    {
     "name": "stdout",
     "output_type": "stream",
     "text": [
      "True\n",
      "True\n",
      "False\n",
      "[ 1.  2.  3.  7. 17.]\n"
     ]
    }
   ],
   "source": [
    "class OrderedArraySet:\n",
    "    ## Assume that arr is sorted (invariant)\n",
    "    def __init__(self):\n",
    "        self.arr = np.array([]) # Numpy array is fixed in size\n",
    "        # Behaves more like a Java/C++ array; if we want to add\n",
    "        # or remove something from the array, we have to create\n",
    "        # an entirely new array of a different size and fill that in\n",
    "    \n",
    "    def __contains__(self, obj):\n",
    "        found = False\n",
    "        idx = bisect.bisect_left(arr, obj) # Binary search\n",
    "        if idx < len(self.arr) and len(self.arr) > 0:\n",
    "            if self.arr[idx] == obj:\n",
    "                found = True\n",
    "        return Found\n",
    "    \n",
    "    def add(self, obj):\n",
    "        ## TODO: Maintain the sorted order\n",
    "        if not obj in self:\n",
    "            ## Step 1: Make an array that's one bigger\n",
    "            N = len(self.arr)\n",
    "            new_arr = np.zeros(N+1) # Make an array of all 0's that \n",
    "            # has one extra element\n",
    "            \n",
    "            # idx the element that's the closest to obj\n",
    "            # but greater\n",
    "            idx = bisect.bisect_left(self.arr, obj)\n",
    "            \n",
    "            ## Copy everything up to but not including idx into this \n",
    "            ## array as is\n",
    "            #new_arr[0:idx] = self.arr[0:idx]\n",
    "            for i in range(idx):\n",
    "                new_arr[i] = arr[i]\n",
    "            \n",
    "            new_arr[idx] = obj\n",
    "            \n",
    "            ## [0, 1, ..., idx-1,  idx,   idx+1, idx+2, ..., N-1, N]\n",
    "            \n",
    "            #new_arr[idx+1::] = self.arr[idx::]\n",
    "            for i in range(idx, len(self.arr)):\n",
    "                new_arr[i+1] = arr[i]\n",
    "            \n",
    "            self.arr = new_arr\n",
    "        \n",
    "    \n",
    "    def remove(self, obj):\n",
    "        # if not self.__contains__(obj):\n",
    "        if not obj in self:\n",
    "            raise KeyError(\"Cannot remove non-existant object {}\".format(obj))\n",
    "            \n",
    "myset = ArraySet()\n",
    "# {2, 7, 1, 17, 7, 3}\n",
    "for x in [2, 7, 1, 17, 7, 3]:\n",
    "    myset.add(x)\n",
    "\n",
    "print(2 in myset)\n",
    "print(7 in myset)\n",
    "print(100 in myset)\n",
    "\n",
    "print(myset.arr)"
   ]
  },
  {
   "cell_type": "markdown",
   "id": "101b39e6",
   "metadata": {},
   "source": [
    "|               |  contains          | add               | remove    |\n",
    "|-----------    |---------           | ----              | -------   |\n",
    "|  Array        |    N               |  ~2N              |  ~2N      |\n",
    "| Sorted Array  |    $log_2(N)$      |  ~2N + log_2(N)   |  ~2N + log_2(N)     |"
   ]
  },
  {
   "cell_type": "markdown",
   "id": "a392ede0",
   "metadata": {},
   "source": [
    "## Linked List Implementation of Set\n",
    "\n",
    "Use a linked list to make the add method faster in the set.  Pay particular attention to the remove method here.  Here's a picture depicting the algorithm:\n",
    "\n",
    "<img src = \"LinkedListRemove.svg\">\n"
   ]
  },
  {
   "cell_type": "code",
   "execution_count": 41,
   "id": "174a4d6f",
   "metadata": {},
   "outputs": [
    {
     "name": "stdout",
     "output_type": "stream",
     "text": [
      "Camila==>Journi==>Levi==>\n",
      "\n",
      "False\n",
      "True\n",
      "False\n"
     ]
    }
   ],
   "source": [
    "class Node:\n",
    "    def __init__(self, obj):\n",
    "        \"\"\"\n",
    "        Parameters\n",
    "        ----------\n",
    "        obj: object\n",
    "            Some object we want to store in this container\n",
    "        \"\"\"\n",
    "        self.obj = obj\n",
    "        self.next = None # Like \"null\" in C++\n",
    "        \n",
    "        \n",
    "class LinkedList:\n",
    "    def __init__(self):\n",
    "        self.head = None\n",
    "    \n",
    "    def add_first(self, obj):\n",
    "        new_node = Node(obj)\n",
    "        new_node.next = self.head\n",
    "        self.head = new_node\n",
    "    \n",
    "    def add_last(self, obj):\n",
    "        new_node = Node(obj)\n",
    "        if not self.head:\n",
    "            # If the head is None (nothing is in the list yet)\n",
    "            self.head = new_node\n",
    "        else:\n",
    "            # Loop through until I get to the end\n",
    "            cursor = self.head\n",
    "            while cursor.next:\n",
    "                # while cursor's next is not None\n",
    "                cursor = cursor.next\n",
    "            cursor.next = new_node\n",
    "        \n",
    "    def contains(self, obj):\n",
    "        cursor = self.head\n",
    "        found = False\n",
    "        while not found and cursor: # If cursor is None, this is false\n",
    "            if cursor.obj == obj:\n",
    "                found = True\n",
    "            cursor = cursor.next\n",
    "        return found\n",
    "    \n",
    "    def remove(self, obj):\n",
    "        if self.head:\n",
    "            cursor = self.head\n",
    "            if obj == self.head.obj:\n",
    "                ## Special case\n",
    "                self.head = self.head.next\n",
    "            else:\n",
    "                ## Find the node right before the one we want to remove\n",
    "                while cursor.next and cursor.next.obj != obj:\n",
    "                    cursor = cursor.next\n",
    "                if cursor.next:\n",
    "                    ## Route around the node we're trying to remove\n",
    "                    cursor.next = cursor.next.next\n",
    "                    ## Python will automatically delete the node\n",
    "                    ## pointed to by cursor.next (but we'd need\n",
    "                    ## to remove it manually in a C++ implementation)\n",
    "                else:\n",
    "                    raise KeyError(\"{} is not in list!\".format(obj))\n",
    "                \n",
    "        \n",
    "    \n",
    "    def print_elements(self):\n",
    "        cursor = self.head\n",
    "        while cursor: # If cursor is None, this is false\n",
    "            print(cursor.obj, end=\"==>\")\n",
    "            cursor = cursor.next\n",
    "            \n",
    "        \n",
    "mylist = LinkedList()\n",
    "mylist.add_last(\"Camila\")\n",
    "mylist.add_last(\"Journi\")\n",
    "mylist.add_last(\"Tre\")\n",
    "mylist.add_last(\"Levi\")\n",
    "\n",
    "mylist.remove(\"Tre\")\n",
    "\n",
    "mylist.print_elements()\n",
    "print(\"\\n\")\n",
    "print(mylist.contains(\"Tre\"))\n",
    "print(mylist.contains(\"Levi\"))\n",
    "print(mylist.contains(\"Pedro\"))"
   ]
  },
  {
   "cell_type": "code",
   "execution_count": 44,
   "id": "6298f644",
   "metadata": {},
   "outputs": [
    {
     "name": "stdout",
     "output_type": "stream",
     "text": [
      "True\n",
      "True\n",
      "False\n",
      "3==>7==>17==>1==>7==>2==>"
     ]
    }
   ],
   "source": [
    "class LinkedListSet:\n",
    "    ## Assume that arr is sorted (invariant)\n",
    "    def __init__(self):\n",
    "        self.mylist = LinkedList()\n",
    "    \n",
    "    def __contains__(self, obj):\n",
    "        return self.mylist.contains(obj)\n",
    "    \n",
    "    def add(self, obj):\n",
    "        ## Add with duplicates\n",
    "        self.mylist.add_first(obj)\n",
    "    \n",
    "    def remove(self, obj):\n",
    "        ## TODO: Change linked list to remove all copies\n",
    "        self.mylist.remove(obj)\n",
    "\n",
    "myset = LinkedListSet()\n",
    "# {2, 7, 1, 17, 7, 3}\n",
    "for x in [2, 7, 1, 17, 7, 3, 2]:\n",
    "    myset.add(x)\n",
    "    \n",
    "myset.remove(2)\n",
    "\n",
    "print(2 in myset)\n",
    "print(7 in myset)\n",
    "print(100 in myset)\n",
    "myset.mylist.print_elements()"
   ]
  },
  {
   "cell_type": "markdown",
   "id": "953a94c4",
   "metadata": {},
   "source": [
    "|               |  contains          | add               | remove    |\n",
    "|-----------    |---------           | ----              | -------   |\n",
    "|  Array        |    N               |  ~2N              |  ~2N      |\n",
    "| Sorted Array  |    $log_2(N)$      |  ~2N + log_2(N)   |  ~2N + log_2(N)     |\n",
    "| Linked List  |    $N$      |  1                    |  $N$     |"
   ]
  },
  {
   "cell_type": "code",
   "execution_count": null,
   "id": "4b85da7c",
   "metadata": {},
   "outputs": [],
   "source": []
  }
 ],
 "metadata": {
  "kernelspec": {
   "display_name": "Python 3 (ipykernel)",
   "language": "python",
   "name": "python3"
  },
  "language_info": {
   "codemirror_mode": {
    "name": "ipython",
    "version": 3
   },
   "file_extension": ".py",
   "mimetype": "text/x-python",
   "name": "python",
   "nbconvert_exporter": "python",
   "pygments_lexer": "ipython3",
   "version": "3.11.3"
  }
 },
 "nbformat": 4,
 "nbformat_minor": 5
}
