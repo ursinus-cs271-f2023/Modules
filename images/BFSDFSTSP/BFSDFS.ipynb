{
 "cells": [
  {
   "cell_type": "markdown",
   "id": "0b1d6529",
   "metadata": {},
   "source": [
    "# Breadth-First Search And Depth-First Search"
   ]
  },
  {
   "cell_type": "code",
   "execution_count": 1,
   "id": "4e04c252",
   "metadata": {
    "scrolled": true
   },
   "outputs": [
    {
     "name": "stdout",
     "output_type": "stream",
     "text": [
      "1\n",
      "Frontier DoublyLinkedList: 3 ==> 4 ==> 2 ==> 0 ==> \n",
      "3\n",
      "Frontier DoublyLinkedList: 4 ==> 2 ==> 0 ==> 7 ==> \n",
      "4\n",
      "Frontier DoublyLinkedList: 2 ==> 0 ==> 7 ==> \n",
      "2\n",
      "Frontier DoublyLinkedList: 0 ==> 7 ==> 5 ==> \n",
      "0\n",
      "Frontier DoublyLinkedList: 7 ==> 5 ==> \n",
      "7\n",
      "Frontier DoublyLinkedList: 5 ==> \n",
      "5\n",
      "Frontier DoublyLinkedList: 6 ==> \n",
      "6\n",
      "Frontier DoublyLinkedList: \n"
     ]
    }
   ],
   "source": [
    "from linkedlist import *\n",
    "\n",
    "UNTOUCHED = 0\n",
    "FRONTIER = 1\n",
    "VISITED = 2\n",
    "\n",
    "class Vertex:\n",
    "    def __init__(self, label):\n",
    "        self.label = label\n",
    "        self.neighbs = set([])\n",
    "        self.state = UNTOUCHED\n",
    "    \n",
    "    def __repr__(self):\n",
    "        return \"{}\".format(self.label)\n",
    "\n",
    "class Graph:\n",
    "    def __init__(self):\n",
    "        # Key: Vertex to look up\n",
    "        # Value is the object encapsulating\n",
    "        # information about that vertex\n",
    "        self.vertices = {}\n",
    "\n",
    "    def add_vertex(self, u):\n",
    "        self.vertices[u] = Vertex(u)\n",
    "    \n",
    "    def add_edge(self, u, v):\n",
    "        self.vertices[u].neighbs.add(self.vertices[v])\n",
    "        self.vertices[v].neighbs.add(self.vertices[u])\n",
    "    \n",
    "    def explore(self, start, bfs=True):\n",
    "        \"\"\"\n",
    "        Given V vertices and E edges in the graph\n",
    "        \n",
    "        Total Time Complexity is O(V + E)\n",
    "        \n",
    "        Run BFS or DFS starting at the vertex \"start\"\n",
    "        \n",
    "        DFS uses frontier like a stack (last in first out)\n",
    "        BFS uses frontier like a queue (first in first out)\n",
    "        \"\"\"\n",
    "        frontier = DoublyLinkedList()\n",
    "        frontier.add_first(self.vertices[start])\n",
    "        # Each vertex passes through the frontier exactly once\n",
    "        while len(frontier) > 0: # O(V) iterations\n",
    "            if bfs:\n",
    "                v = frontier.remove_first() #O(1)\n",
    "            else:\n",
    "                v = frontier.remove_last() #O(1)\n",
    "            v.state = VISITED # O(1)\n",
    "            print(v)\n",
    "            # Look at each neighbor of v\n",
    "            for n in v.neighbs: # 2E, or O(E) iterations over all\n",
    "                # iterations of the outer loop\n",
    "                # As many iterations as neighbors of v\n",
    "                # Put a neighbor on the frontier\n",
    "                # if it hasn't been visited yet\n",
    "                if n.state != FRONTIER and n.state != VISITED:\n",
    "                    # Switch to being on frontier, and add\n",
    "                    # to the back of the frontier\n",
    "                    n.state = FRONTIER # O(1)\n",
    "                    frontier.add_last(n) # O(1)\n",
    "            print(\"Frontier\", frontier)\n",
    "\n",
    "graph = Graph()\n",
    "for v in range(8):\n",
    "    graph.add_vertex(v)\n",
    "graph.add_edge(0, 1)\n",
    "graph.add_edge(1, 4)\n",
    "graph.add_edge(1, 2)\n",
    "graph.add_edge(1, 3)\n",
    "graph.add_edge(3, 4)\n",
    "graph.add_edge(3, 7)\n",
    "graph.add_edge(2, 5)\n",
    "graph.add_edge(5, 6)\n",
    "\n",
    "graph.explore(1, bfs=True)"
   ]
  },
  {
   "cell_type": "code",
   "execution_count": null,
   "id": "29673a86",
   "metadata": {},
   "outputs": [],
   "source": []
  }
 ],
 "metadata": {
  "kernelspec": {
   "display_name": "Python 3 (ipykernel)",
   "language": "python",
   "name": "python3"
  },
  "language_info": {
   "codemirror_mode": {
    "name": "ipython",
    "version": 3
   },
   "file_extension": ".py",
   "mimetype": "text/x-python",
   "name": "python",
   "nbconvert_exporter": "python",
   "pygments_lexer": "ipython3",
   "version": "3.11.3"
  }
 },
 "nbformat": 4,
 "nbformat_minor": 5
}
