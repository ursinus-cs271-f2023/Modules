{
 "cells": [
  {
   "cell_type": "markdown",
   "id": "1e084fcb",
   "metadata": {},
   "source": [
    "<img src = \"graphex3.svg\">"
   ]
  },
  {
   "cell_type": "code",
   "execution_count": 1,
   "id": "8a53797d",
   "metadata": {
    "scrolled": false
   },
   "outputs": [
    {
     "name": "stdout",
     "output_type": "stream",
     "text": [
      "[[1. 1. 1. 0. 0. 0. 0. 0. 0. 0.]\n",
      " [1. 0. 1. 0. 0. 0. 0. 0. 0. 0.]\n",
      " [1. 1. 0. 1. 0. 0. 0. 0. 0. 0.]\n",
      " [0. 0. 1. 0. 1. 0. 0. 0. 0. 0.]\n",
      " [0. 0. 0. 1. 0. 0. 0. 0. 0. 0.]\n",
      " [0. 0. 0. 0. 0. 0. 1. 0. 0. 0.]\n",
      " [0. 0. 0. 0. 0. 1. 0. 0. 0. 0.]\n",
      " [0. 0. 0. 0. 0. 0. 0. 0. 1. 0.]\n",
      " [0. 0. 0. 0. 0. 0. 0. 1. 0. 1.]\n",
      " [0. 0. 0. 0. 0. 0. 0. 0. 1. 0.]]\n"
     ]
    },
    {
     "data": {
      "text/plain": [
       "<matplotlib.image.AxesImage at 0x7fb820db5510>"
      ]
     },
     "execution_count": 1,
     "metadata": {},
     "output_type": "execute_result"
    },
    {
     "data": {
      "image/png": "[encoded data removed]",
      "text/plain": [
       "<Figure size 640x480 with 1 Axes>"
      ]
     },
     "metadata": {},
     "output_type": "display_data"
    }
   ],
   "source": [
    "import numpy as np\n",
    "import matplotlib.pyplot as plt\n",
    "\n",
    "class AdjacencyMatrix:\n",
    "    \"\"\"\n",
    "    Assume: All vertices have __hash__ implemented\n",
    "    and __eq__ implemented\n",
    "    Assume: u and v are zero-indexed integers\n",
    "    \"\"\"\n",
    "    def __init__(self, num_vertices):\n",
    "        # Row u and column v is a 1 if u and v are connected by \n",
    "        # an edge, and 0 otherwise\n",
    "        self.A = np.zeros((num_vertices, num_vertices))\n",
    "        self.count = 0\n",
    "    \n",
    "    def add_edge(self, u, v):\n",
    "        self.A[u, v] = 1\n",
    "        self.A[v, u] = 1\n",
    "    \n",
    "    def get_neighbors(self, v):\n",
    "        # Loop through the row of v and collect\n",
    "        # all u's that are a 1\n",
    "        neighbs = set([])\n",
    "        for u in range(self.A.shape[1]):\n",
    "            if self.A[v, u] == 1:\n",
    "                neighbs.add(u)\n",
    "        return neighbs\n",
    "    \n",
    "    def is_edge(self, u, v):\n",
    "        # This takes O(1) time\n",
    "        return self.A[u, v] == 1 and self.A[v, u] == 1\n",
    "    \n",
    "    def get_two_hops_count(self, u, v):\n",
    "        # Consider a third vertex in between, call it k\n",
    "        # Look at all possible k's in between u and v\n",
    "        count = 0\n",
    "        for k in range(self.A.shape[0]):\n",
    "            if self.A[u, k] == 1 and self.A[k, v] == 1:\n",
    "                count += 1\n",
    "        return count\n",
    "    \n",
    "    def get_all_pairs_two_hops(self):\n",
    "        A2hop = np.zeros_like(self.A)\n",
    "        N = self.A.shape[0]\n",
    "        for u in range(N):\n",
    "            for v in range(N):\n",
    "                for k in range(self.A.shape[0]):\n",
    "                    A2hop[u, v] += self.A[u, k]*self.A[k, v]\n",
    "        return A2hop\n",
    "    \n",
    "    def get_k_hop(self, k):\n",
    "        Ahop = self.A\n",
    "        for i in range(k-1):\n",
    "            Ahop = Ahop.dot(self.A)\n",
    "            self.count += 1\n",
    "        return Ahop\n",
    "    \n",
    "    def get_k_hop_efficient(self, k, mem={}):\n",
    "        ## Ex) Compute 2^21 = 2*2*2*2...*2\n",
    "        ## Or I could break it into (2^10)(2^11)\n",
    "        ## 2^10 = (2^5)(2^5),  2^11 = (2^5)(2^6)\n",
    "        res = np.eye(self.A.shape[0])\n",
    "        if k > 0:\n",
    "            if k in mem:\n",
    "                res = mem[k]\n",
    "            else:\n",
    "                if k == 1:\n",
    "                    res = self.A\n",
    "                else:\n",
    "                    k1 = k//2\n",
    "                    k2 = k - k1\n",
    "                    A1 = self.get_k_hop_efficient(k1, mem)\n",
    "                    A2 = self.get_k_hop_efficient(k2, mem)\n",
    "                    res = A1.dot(A2)\n",
    "                    self.count += 1\n",
    "                mem[k] = res\n",
    "        return res\n",
    "        \n",
    "    \n",
    "\n",
    "num_vertices = 10\n",
    "graph = AdjacencyMatrix(num_vertices)\n",
    "graph.add_edge(0, 0)\n",
    "graph.add_edge(0, 1)\n",
    "graph.add_edge(0, 2)\n",
    "graph.add_edge(1, 2)\n",
    "graph.add_edge(2, 3)\n",
    "graph.add_edge(3, 4)\n",
    "graph.add_edge(5, 6)\n",
    "graph.add_edge(7, 8)\n",
    "graph.add_edge(8, 9)\n",
    "    \n",
    "A = graph.A\n",
    "print(A)\n",
    "mu, V = np.linalg.eig(A)\n",
    "plt.imshow(V != 0)\n"
   ]
  },
  {
   "cell_type": "markdown",
   "id": "ee3945db",
   "metadata": {},
   "source": [
    "How many paths are there from u to v that use k hops?\n",
    "\n",
    "Ex) A[u, v] tells us how many paths there are from u to v that use 1 hop\n",
    "\n",
    "Ex) 2 hops (k = 2)\n",
    "\n",
    "\n",
    "$(A*A*...A)[u, v]$, where * is the matrix multiplication and there are $k$ factors, tells us how many paths there are from $u$ to $v$ that use $k$ hops.\n",
    "\n",
    "We can program this efficiently using dynamic programming and the exponent rule to break it down as\n",
    "\n",
    "$A^{k_1 k_2} = A^{k1}A^{k2}$\n",
    "\n",
    "Just to show that it's all working, we have:"
   ]
  },
  {
   "cell_type": "code",
   "execution_count": 2,
   "id": "670662d7",
   "metadata": {},
   "outputs": [
    {
     "name": "stdout",
     "output_type": "stream",
     "text": [
      "True\n"
     ]
    }
   ],
   "source": [
    "print(np.allclose(graph.get_k_hop(100), graph.get_k_hop_efficient(100)))"
   ]
  },
  {
   "cell_type": "code",
   "execution_count": null,
   "id": "f3bcecea",
   "metadata": {},
   "outputs": [],
   "source": []
  }
 ],
 "metadata": {
  "kernelspec": {
   "display_name": "Python 3 (ipykernel)",
   "language": "python",
   "name": "python3"
  },
  "language_info": {
   "codemirror_mode": {
    "name": "ipython",
    "version": 3
   },
   "file_extension": ".py",
   "mimetype": "text/x-python",
   "name": "python",
   "nbconvert_exporter": "python",
   "pygments_lexer": "ipython3",
   "version": "3.11.3"
  }
 },
 "nbformat": 4,
 "nbformat_minor": 5
}
