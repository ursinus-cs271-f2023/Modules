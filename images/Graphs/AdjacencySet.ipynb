{
 "cells": [
  {
   "cell_type": "code",
   "execution_count": 6,
   "id": "c857b8d0",
   "metadata": {},
   "outputs": [
    {
     "name": "stdout",
     "output_type": "stream",
     "text": [
      "0 {0, 1}\n",
      "1 {0, 2, 3, 4}\n",
      "2 {1}\n",
      "3 {1, 4}\n",
      "4 {1, 3}\n",
      "0 0 True\n",
      "1 0 True\n",
      "2 0 False\n",
      "3 0 False\n",
      "4 0 False\n",
      "0 1 True\n",
      "1 1 False\n",
      "2 1 True\n",
      "3 1 True\n",
      "4 1 True\n",
      "0 2 False\n",
      "1 2 True\n",
      "2 2 False\n",
      "3 2 False\n",
      "4 2 False\n",
      "0 3 False\n",
      "1 3 True\n",
      "2 3 False\n",
      "3 3 False\n",
      "4 3 True\n",
      "0 4 False\n",
      "1 4 True\n",
      "2 4 False\n",
      "3 4 True\n",
      "4 4 False\n"
     ]
    }
   ],
   "source": [
    "class AdjacencyGraph:\n",
    "    \"\"\"\n",
    "    Assume: All vertices have __hash__ implemented\n",
    "    and __eq__ implemented\n",
    "    \"\"\"\n",
    "    def __init__(self):\n",
    "        # Key: A vertex\n",
    "        # Value: a set of vertices that are \n",
    "        # neighbors of v\n",
    "        self.neighbs = {}\n",
    "    \n",
    "    def add_vertex(self, v):\n",
    "        self.neighbs[v] = set([])\n",
    "    \n",
    "    def add_edge(self, u, v):\n",
    "        # NOTE: If (u, v) is in edges, we assume\n",
    "        # that (v, u) is also in edges\n",
    "        self.neighbs[u].add(v)\n",
    "        self.neighbs[v].add(u)\n",
    "    \n",
    "    def get_neighbors(self, v):\n",
    "        # Assume O(1) to access neighbors set\n",
    "        # or O(h) to enumerate neighbors, where \n",
    "        # h is the number of neighbors of v\n",
    "        # h does not exceed O(|V|)\n",
    "        return self.neighbs[v]\n",
    "    \n",
    "    def is_edge(self, u, v):\n",
    "        # This takes O(1) time\n",
    "        return u in self.neighbs[v] and v in self.neighbs[u]\n",
    "                \n",
    "    \n",
    "graph = AdjacencyGraph()\n",
    "for v in range(5):\n",
    "    graph.add_vertex(v)\n",
    "graph.add_edge(0, 1)\n",
    "graph.add_edge(1, 2)\n",
    "graph.add_edge(1, 4)\n",
    "graph.add_edge(4, 3)\n",
    "graph.add_edge(1, 3)\n",
    "graph.add_edge(0, 0)\n",
    "for v in range(5):\n",
    "    print(v, graph.get_neighbors(v))\n",
    "    \n",
    "for v in range(5):\n",
    "    for u in range(5):\n",
    "        print(u, v, graph.is_edge(u, v))\n",
    "    "
   ]
  },
  {
   "cell_type": "code",
   "execution_count": null,
   "id": "baccfcad",
   "metadata": {},
   "outputs": [],
   "source": []
  }
 ],
 "metadata": {
  "kernelspec": {
   "display_name": "Python 3 (ipykernel)",
   "language": "python",
   "name": "python3"
  },
  "language_info": {
   "codemirror_mode": {
    "name": "ipython",
    "version": 3
   },
   "file_extension": ".py",
   "mimetype": "text/x-python",
   "name": "python",
   "nbconvert_exporter": "python",
   "pygments_lexer": "ipython3",
   "version": "3.11.3"
  }
 },
 "nbformat": 4,
 "nbformat_minor": 5
}
