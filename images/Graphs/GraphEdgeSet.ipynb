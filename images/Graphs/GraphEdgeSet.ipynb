{
 "cells": [
  {
   "cell_type": "markdown",
   "id": "4377c290",
   "metadata": {},
   "source": [
    "<img src = \"graphex.svg\">"
   ]
  },
  {
   "cell_type": "code",
   "execution_count": 3,
   "id": "81b4fd94",
   "metadata": {},
   "outputs": [
    {
     "name": "stdout",
     "output_type": "stream",
     "text": [
      "0 {1}\n",
      "1 {0, 2, 3, 4}\n",
      "2 {1}\n",
      "3 {1, 4}\n",
      "4 {1, 3}\n"
     ]
    }
   ],
   "source": [
    "class GraphEdgeSet:\n",
    "    \"\"\"\n",
    "    Assume: All vertices have __hash__ implemented\n",
    "    and __eq__ implemented\n",
    "    \n",
    "    Let |V| be the number of vertices\n",
    "    and |E| be the number of edges\n",
    "    \n",
    "    \"\"\"\n",
    "    def __init__(self):\n",
    "        self.V = set([])\n",
    "        self.E = set([])\n",
    "    \n",
    "    def add_vertex(self, v):\n",
    "        self.V.add(v)\n",
    "    \n",
    "    def add_edge(self, u, v):\n",
    "        self.E.add((u, v))\n",
    "        # NOTE: If (u, v) is in edges, we assume\n",
    "        # that (v, u) is also in edges\n",
    "    \n",
    "    def get_neighbors(self, v):\n",
    "        ## Loop through every edge and see if \n",
    "        ## v is in that edge\n",
    "        ## O(|E|)\n",
    "        neighbs = set([])\n",
    "        for (a, b) in self.E:\n",
    "            if a == v:\n",
    "                neighbs.add(b)\n",
    "            elif b == v:\n",
    "                neighbs.add(a)\n",
    "        return neighbs\n",
    "                \n",
    "    \n",
    "graph = GraphEdgeSet()\n",
    "for v in range(5):\n",
    "    graph.add_vertex(v)\n",
    "graph.add_edge(0, 1)\n",
    "graph.add_edge(1, 2)\n",
    "graph.add_edge(1, 4)\n",
    "graph.add_edge(4, 3)\n",
    "graph.add_edge(1, 3)\n",
    "for v in range(5):\n",
    "    print(v, graph.get_neighbors(v))"
   ]
  },
  {
   "cell_type": "code",
   "execution_count": null,
   "id": "c1bcb217",
   "metadata": {},
   "outputs": [],
   "source": []
  }
 ],
 "metadata": {
  "kernelspec": {
   "display_name": "Python 3 (ipykernel)",
   "language": "python",
   "name": "python3"
  },
  "language_info": {
   "codemirror_mode": {
    "name": "ipython",
    "version": 3
   },
   "file_extension": ".py",
   "mimetype": "text/x-python",
   "name": "python",
   "nbconvert_exporter": "python",
   "pygments_lexer": "ipython3",
   "version": "3.11.3"
  }
 },
 "nbformat": 4,
 "nbformat_minor": 5
}
