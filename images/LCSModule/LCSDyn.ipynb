{
 "cells": [
  {
   "cell_type": "code",
   "execution_count": null,
   "id": "289ebc04",
   "metadata": {},
   "outputs": [],
   "source": [
    "def LCS(s1, s2):\n",
    "    \"\"\"\n",
    "    Parameters\n",
    "    ----------\n",
    "    s1: string\n",
    "        First string\n",
    "    s2: string\n",
    "        Second string\n",
    "    \"\"\"\n",
    "    LEFT = 0\n",
    "    DIAG = 1\n",
    "    UP = 2\n",
    "    M = len(s1)\n",
    "    N = len(s2)\n",
    "    table = [[0]*N for i in range(M)]\n",
    "    choices = [[0]*N for i in range(M)]\n",
    "    for i in range(M):\n",
    "        for j in range(N):\n",
    "            res = 0\n",
    "            if s1[i] == s2[j]:\n",
    "                res = 1\n",
    "                if i > 0 and j > 0:\n",
    "                    choices[i][j] = DIAG\n",
    "                    res += table[i-1][j-1]\n",
    "            else:\n",
    "                res1 = 0\n",
    "                res2 = 0\n",
    "                if i > 0:\n",
    "                    res1 = table[i-1][j]\n",
    "                if j > 0:\n",
    "                    res2 = table[i][j-1]\n",
    "                if res1 > res2:\n",
    "                    choices[i][j] = UP\n",
    "                    res = res1\n",
    "                else:\n",
    "                    choices[i][j] = LEFT\n",
    "                    res = res2\n",
    "            table[i][j] = res\n",
    "    for j in range(N):\n",
    "        choices[0][j] = LEFT\n",
    "    for i in range(M):\n",
    "        choices[i][0] = UP\n",
    "    return choices\n",
    "\n"
   ]
  }
 ],
 "metadata": {
  "kernelspec": {
   "display_name": "Python 3 (ipykernel)",
   "language": "python",
   "name": "python3"
  },
  "language_info": {
   "codemirror_mode": {
    "name": "ipython",
    "version": 3
   },
   "file_extension": ".py",
   "mimetype": "text/x-python",
   "name": "python",
   "nbconvert_exporter": "python",
   "pygments_lexer": "ipython3",
   "version": "3.11.3"
  }
 },
 "nbformat": 4,
 "nbformat_minor": 5
}
