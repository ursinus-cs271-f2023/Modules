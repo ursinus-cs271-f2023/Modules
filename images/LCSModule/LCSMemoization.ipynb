{
 "cells": [
  {
   "cell_type": "markdown",
   "id": "262bae3e",
   "metadata": {},
   "source": [
    "## Longest Common Subsequence\n",
    "\n",
    "We can think of subsequences like binary strings.\n",
    "\n",
    "<b>rules are</b> not all that <b>great</b>\n",
    "\n",
    "1111111110000000000000011111\n",
    "\n",
    "U<b>rsin<b>u</b>s co<b>l</b>lege stud<b>e</b>nt<b>s</b> <b>are great</b> students\n",
    "\n",
    "01000100001000000000100000000010010111111111000000000\n",
    "\n",
    "We know there are $2^N$ unique binary strings of length $N$, so a brute force algorithm would be exponential at best. Instead, we're going to make a recursive operation to work backwards. Your job in the next exercise will be to use memoization to make this faster, since there are many overlapping subproblems that you can remember to cut off branches in the recursion"
   ]
  },
  {
   "cell_type": "code",
   "execution_count": 1,
   "id": "353ebbb3",
   "metadata": {},
   "outputs": [
    {
     "data": {
      "text/plain": [
       "16"
      ]
     },
     "execution_count": 1,
     "metadata": {},
     "output_type": "execute_result"
    }
   ],
   "source": [
    "from functools import lru_cache\n",
    "\n",
    "@lru_cache(maxsize=None) # Python's built-in memoization\n",
    "def LCS(s1, s2):\n",
    "    \"\"\"\n",
    "    Parameters\n",
    "    ----------\n",
    "    s1: string\n",
    "        First string\n",
    "    s2: string\n",
    "        Second string\n",
    "    \"\"\"\n",
    "    ## Problem instance\n",
    "    key = (len(s1), len(s2))\n",
    "    \n",
    "    if len(s1) == 0 or len(s2) == 0:\n",
    "        return 0\n",
    "    if s1[-1] == s2[-1]:\n",
    "        return 1 + LCS(s1[0:-1], s2[0:-1])\n",
    "    else:\n",
    "        return max(LCS(s1[0:-1], s2), LCS(s1, s2[0:-1]))\n",
    "\n",
    "s1 = \"rules are not all that great\"\n",
    "s2 = \"Ursinus college students are great students\"\n",
    "LCS(s1, s2)"
   ]
  },
  {
   "cell_type": "markdown",
   "id": "518e086f",
   "metadata": {},
   "source": [
    "### Memoization review with Fibonacci"
   ]
  },
  {
   "cell_type": "code",
   "execution_count": null,
   "id": "59b55010",
   "metadata": {},
   "outputs": [],
   "source": [
    "def fib(N, mem={}):\n",
    "    res = 1\n",
    "    # Check once at the beginning if \n",
    "    # my problem has already been computed\n",
    "    if N in mem: \n",
    "        res = mem[N]\n",
    "    else:\n",
    "        # Otherwise, compute the solution\n",
    "        if N > 2:\n",
    "            res = fib(N-1) + fib(N-2)\n",
    "        # Store the solution in memory so we don't have\n",
    "        # to repeat it again\n",
    "        mem[N] = res\n",
    "    return res\n",
    "\n",
    "for i in range(1, 100):\n",
    "    print(fib(i), end=\",\")"
   ]
  },
  {
   "cell_type": "code",
   "execution_count": null,
   "id": "b6819e19",
   "metadata": {},
   "outputs": [],
   "source": []
  }
 ],
 "metadata": {
  "kernelspec": {
   "display_name": "Python 3 (ipykernel)",
   "language": "python",
   "name": "python3"
  },
  "language_info": {
   "codemirror_mode": {
    "name": "ipython",
    "version": 3
   },
   "file_extension": ".py",
   "mimetype": "text/x-python",
   "name": "python",
   "nbconvert_exporter": "python",
   "pygments_lexer": "ipython3",
   "version": "3.11.3"
  }
 },
 "nbformat": 4,
 "nbformat_minor": 5
}
